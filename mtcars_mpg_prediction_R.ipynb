{
 "cells": [
  {
   "cell_type": "markdown",
   "id": "25a72f59-994a-409c-a0c1-64d3395f9a4d",
   "metadata": {},
   "source": [
    "### Predicting Car Fuel Efficiency Using Linear Regression in R"
   ]
  },
  {
   "cell_type": "markdown",
   "id": "4efe583c-345d-4fc0-b5f8-98e6361e58e3",
   "metadata": {},
   "source": [
    "Dataset: mtcars (built-in R dataset)"
   ]
  },
  {
   "cell_type": "markdown",
   "id": "aa43f306-677b-4f07-9907-69ff34097928",
   "metadata": {},
   "source": [
    "### Objective:\n",
    "To analyze how car characteristics like weight (wt), horsepower (hp), and displacement (disp) affect fuel efficiency (mpg) using Simple and Multiple Linear Regression, along with model evaluation and diagnostics."
   ]
  },
  {
   "cell_type": "markdown",
   "id": "14d9d894-ba7c-420a-894f-a6174b71a35a",
   "metadata": {},
   "source": [
    "#### 1. Load Libraries and Data"
   ]
  },
  {
   "cell_type": "code",
   "execution_count": 2,
   "id": "73d55a3a-757f-47fe-b28a-f64ad03181e5",
   "metadata": {},
   "outputs": [
    {
     "data": {
      "text/html": [
       "<table>\n",
       "<thead><tr><th></th><th scope=col>mpg</th><th scope=col>cyl</th><th scope=col>disp</th><th scope=col>hp</th><th scope=col>drat</th><th scope=col>wt</th><th scope=col>qsec</th><th scope=col>vs</th><th scope=col>am</th><th scope=col>gear</th><th scope=col>carb</th></tr></thead>\n",
       "<tbody>\n",
       "\t<tr><th scope=row>Mazda RX4</th><td>21.0 </td><td>6    </td><td>160  </td><td>110  </td><td>3.90 </td><td>2.620</td><td>16.46</td><td>0    </td><td>1    </td><td>4    </td><td>4    </td></tr>\n",
       "\t<tr><th scope=row>Mazda RX4 Wag</th><td>21.0 </td><td>6    </td><td>160  </td><td>110  </td><td>3.90 </td><td>2.875</td><td>17.02</td><td>0    </td><td>1    </td><td>4    </td><td>4    </td></tr>\n",
       "\t<tr><th scope=row>Datsun 710</th><td>22.8 </td><td>4    </td><td>108  </td><td> 93  </td><td>3.85 </td><td>2.320</td><td>18.61</td><td>1    </td><td>1    </td><td>4    </td><td>1    </td></tr>\n",
       "\t<tr><th scope=row>Hornet 4 Drive</th><td>21.4 </td><td>6    </td><td>258  </td><td>110  </td><td>3.08 </td><td>3.215</td><td>19.44</td><td>1    </td><td>0    </td><td>3    </td><td>1    </td></tr>\n",
       "\t<tr><th scope=row>Hornet Sportabout</th><td>18.7 </td><td>8    </td><td>360  </td><td>175  </td><td>3.15 </td><td>3.440</td><td>17.02</td><td>0    </td><td>0    </td><td>3    </td><td>2    </td></tr>\n",
       "\t<tr><th scope=row>Valiant</th><td>18.1 </td><td>6    </td><td>225  </td><td>105  </td><td>2.76 </td><td>3.460</td><td>20.22</td><td>1    </td><td>0    </td><td>3    </td><td>1    </td></tr>\n",
       "</tbody>\n",
       "</table>\n"
      ],
      "text/latex": [
       "\\begin{tabular}{r|lllllllllll}\n",
       "  & mpg & cyl & disp & hp & drat & wt & qsec & vs & am & gear & carb\\\\\n",
       "\\hline\n",
       "\tMazda RX4 & 21.0  & 6     & 160   & 110   & 3.90  & 2.620 & 16.46 & 0     & 1     & 4     & 4    \\\\\n",
       "\tMazda RX4 Wag & 21.0  & 6     & 160   & 110   & 3.90  & 2.875 & 17.02 & 0     & 1     & 4     & 4    \\\\\n",
       "\tDatsun 710 & 22.8  & 4     & 108   &  93   & 3.85  & 2.320 & 18.61 & 1     & 1     & 4     & 1    \\\\\n",
       "\tHornet 4 Drive & 21.4  & 6     & 258   & 110   & 3.08  & 3.215 & 19.44 & 1     & 0     & 3     & 1    \\\\\n",
       "\tHornet Sportabout & 18.7  & 8     & 360   & 175   & 3.15  & 3.440 & 17.02 & 0     & 0     & 3     & 2    \\\\\n",
       "\tValiant & 18.1  & 6     & 225   & 105   & 2.76  & 3.460 & 20.22 & 1     & 0     & 3     & 1    \\\\\n",
       "\\end{tabular}\n"
      ],
      "text/markdown": [
       "\n",
       "| <!--/--> | mpg | cyl | disp | hp | drat | wt | qsec | vs | am | gear | carb |\n",
       "|---|---|---|---|---|---|---|---|---|---|---|---|\n",
       "| Mazda RX4 | 21.0  | 6     | 160   | 110   | 3.90  | 2.620 | 16.46 | 0     | 1     | 4     | 4     |\n",
       "| Mazda RX4 Wag | 21.0  | 6     | 160   | 110   | 3.90  | 2.875 | 17.02 | 0     | 1     | 4     | 4     |\n",
       "| Datsun 710 | 22.8  | 4     | 108   |  93   | 3.85  | 2.320 | 18.61 | 1     | 1     | 4     | 1     |\n",
       "| Hornet 4 Drive | 21.4  | 6     | 258   | 110   | 3.08  | 3.215 | 19.44 | 1     | 0     | 3     | 1     |\n",
       "| Hornet Sportabout | 18.7  | 8     | 360   | 175   | 3.15  | 3.440 | 17.02 | 0     | 0     | 3     | 2     |\n",
       "| Valiant | 18.1  | 6     | 225   | 105   | 2.76  | 3.460 | 20.22 | 1     | 0     | 3     | 1     |\n",
       "\n"
      ],
      "text/plain": [
       "                  mpg  cyl disp hp  drat wt    qsec  vs am gear carb\n",
       "Mazda RX4         21.0 6   160  110 3.90 2.620 16.46 0  1  4    4   \n",
       "Mazda RX4 Wag     21.0 6   160  110 3.90 2.875 17.02 0  1  4    4   \n",
       "Datsun 710        22.8 4   108   93 3.85 2.320 18.61 1  1  4    1   \n",
       "Hornet 4 Drive    21.4 6   258  110 3.08 3.215 19.44 1  0  3    1   \n",
       "Hornet Sportabout 18.7 8   360  175 3.15 3.440 17.02 0  0  3    2   \n",
       "Valiant           18.1 6   225  105 2.76 3.460 20.22 1  0  3    1   "
      ]
     },
     "metadata": {},
     "output_type": "display_data"
    }
   ],
   "source": [
    "# Load necessary libraries\n",
    "library(ggplot2)\n",
    "library(car)  # for VIF\n",
    "\n",
    "# Load the dataset\n",
    "data(mtcars)\n",
    "head(mtcars)"
   ]
  },
  {
   "cell_type": "markdown",
   "id": "84cceec6-c407-4edc-bbc9-39aa5ddafd6b",
   "metadata": {},
   "source": [
    "### 2. Simple Linear Regression (SLR): mpg ~ wt"
   ]
  },
  {
   "cell_type": "code",
   "execution_count": 5,
   "id": "3eaf49ae-1d48-49f3-9c01-b44ffbe7f5ec",
   "metadata": {},
   "outputs": [
    {
     "data": {
      "text/plain": [
       "\n",
       "Call:\n",
       "lm(formula = mpg ~ wt, data = mtcars)\n",
       "\n",
       "Coefficients:\n",
       "(Intercept)           wt  \n",
       "     37.285       -5.344  \n"
      ]
     },
     "metadata": {},
     "output_type": "display_data"
    }
   ],
   "source": [
    "# Fit a simple linear regression model\n",
    "model_slr <- lm(mpg ~ wt, data = mtcars)\n",
    "model_slr"
   ]
  },
  {
   "cell_type": "code",
   "execution_count": 6,
   "id": "856594d6-71af-49ef-8cdc-73ae79ef4639",
   "metadata": {},
   "outputs": [
    {
     "data": {
      "text/plain": [
       "\n",
       "Call:\n",
       "lm(formula = mpg ~ wt, data = mtcars)\n",
       "\n",
       "Residuals:\n",
       "    Min      1Q  Median      3Q     Max \n",
       "-4.5432 -2.3647 -0.1252  1.4096  6.8727 \n",
       "\n",
       "Coefficients:\n",
       "            Estimate Std. Error t value Pr(>|t|)    \n",
       "(Intercept)  37.2851     1.8776  19.858  < 2e-16 ***\n",
       "wt           -5.3445     0.5591  -9.559 1.29e-10 ***\n",
       "---\n",
       "Signif. codes:  0 '***' 0.001 '**' 0.01 '*' 0.05 '.' 0.1 ' ' 1\n",
       "\n",
       "Residual standard error: 3.046 on 30 degrees of freedom\n",
       "Multiple R-squared:  0.7528,\tAdjusted R-squared:  0.7446 \n",
       "F-statistic: 91.38 on 1 and 30 DF,  p-value: 1.294e-10\n"
      ]
     },
     "metadata": {},
     "output_type": "display_data"
    }
   ],
   "source": [
    "# Summarize model results\n",
    "summary(model_slr)"
   ]
  },
  {
   "cell_type": "markdown",
   "id": "e60f820f-0fd4-4f30-98c3-4cba5ad0bef7",
   "metadata": {},
   "source": [
    "Explanation:\n",
    "The model estimates:\n",
    "mpg = 37.29 − 5.34 × wt\n",
    "R-squared ≈ 0.75 → 75% of variation in mpg is explained by car weight.\n",
    "Negative slope → Heavier cars have lower fuel efficiency."
   ]
  },
  {
   "cell_type": "markdown",
   "id": "7d8fac82-74dc-4b65-90b0-d1bd9ca482b9",
   "metadata": {},
   "source": [
    "### 3. Visualizing SLR"
   ]
  },
  {
   "cell_type": "code",
   "execution_count": 7,
   "id": "25631737-a880-4123-96b5-89fc11502ca4",
   "metadata": {},
   "outputs": [
    {
     "data": {
      "image/png": "[encoded data removed]",
      "text/plain": [
       "plot without title"
      ]
     },
     "metadata": {},
     "output_type": "display_data"
    }
   ],
   "source": [
    "ggplot(mtcars, aes(x = wt, y = mpg)) +\n",
    "  geom_point(color = \"darkorange\") +\n",
    "  geom_smooth(method = \"lm\", se = FALSE, color = \"steelblue\", size = 1.2) +\n",
    "  labs(title = \"Simple Linear Regression: MPG vs Weight\",\n",
    "       x = \"Weight (1000 lbs)\", y = \"Miles per Gallon\") +\n",
    "  theme_minimal()\n"
   ]
  },
  {
   "cell_type": "markdown",
   "id": "59e80fa3-270a-412a-a178-08ecba205aba",
   "metadata": {},
   "source": [
    "This plot shows a clear negative relationship between weight and mpg."
   ]
  },
  {
   "cell_type": "markdown",
   "id": "d79ad498-b81d-46b3-9388-bd39e2a39ace",
   "metadata": {},
   "source": [
    "### 4. Make Prediction Using SLR"
   ]
  },
  {
   "cell_type": "code",
   "execution_count": 8,
   "id": "fd28590f-5f70-4509-a7bb-8e29cd698f63",
   "metadata": {},
   "outputs": [
    {
     "data": {
      "text/html": [
       "<strong>1:</strong> 18.5794756628127"
      ],
      "text/latex": [
       "\\textbf{1:} 18.5794756628127"
      ],
      "text/markdown": [
       "**1:** 18.5794756628127"
      ],
      "text/plain": [
       "       1 \n",
       "18.57948 "
      ]
     },
     "metadata": {},
     "output_type": "display_data"
    }
   ],
   "source": [
    "# Predict mpg for a car weighing 3.5 (1000 lbs)\n",
    "predict(model_slr, data.frame(wt = 3.5))\n"
   ]
  },
  {
   "cell_type": "markdown",
   "id": "4de91a38-bf5a-4a5c-a181-3968a0702b16",
   "metadata": {},
   "source": [
    "Predicted mpg ≈ 18.5 for a car weighing 3.5 (1000 lbs)."
   ]
  },
  {
   "cell_type": "markdown",
   "id": "1eccbfcf-5439-4596-bcb7-7f4401f70da3",
   "metadata": {},
   "source": [
    "### 5. Residual Diagnostics for SLR"
   ]
  },
  {
   "cell_type": "code",
   "execution_count": 9,
   "id": "64edf43b-17dc-403d-8a1f-820c05891409",
   "metadata": {},
   "outputs": [
    {
     "data": {
      "image/png": "[encoded data removed]",
      "text/plain": [
       "Plot with title \"Residuals vs Fitted\""
      ]
     },
     "metadata": {},
     "output_type": "display_data"
    }
   ],
   "source": [
    "# Residuals and fitted values\n",
    "residuals_slr <- resid(model_slr)\n",
    "fitted_slr <- fitted(model_slr)\n",
    "\n",
    "# Residuals vs Fitted Plot\n",
    "plot(fitted_slr, residuals_slr,\n",
    "     main = \"Residuals vs Fitted\",\n",
    "     xlab = \"Fitted MPG\", ylab = \"Residuals\",\n",
    "     col = \"darkgreen\", pch = 19)\n",
    "abline(h = 0, col = \"red\", lwd = 2)\n"
   ]
  },
  {
   "cell_type": "code",
   "execution_count": 10,
   "id": "04e952d2-e47e-464f-ba0e-95f9bf3f3e12",
   "metadata": {},
   "outputs": [
    {
     "data": {
      "image/png": "[encoded data removed]",
      "text/plain": [
       "Plot with title \"\""
      ]
     },
     "metadata": {},
     "output_type": "display_data"
    }
   ],
   "source": [
    "# Additional diagnostic plots\n",
    "par(mfrow = c(1, 2))  # side-by-side plots\n",
    "plot(model_slr, which = 1)  # Residuals vs Fitted\n",
    "plot(model_slr, which = 2)  # Q-Q plot\n"
   ]
  },
  {
   "cell_type": "markdown",
   "id": "ea502901-eeb6-4a5a-a768-e2866cfc250a",
   "metadata": {},
   "source": [
    "No major issues. Residuals are randomly distributed and approximately normal."
   ]
  },
  {
   "cell_type": "markdown",
   "id": "00dcaa23-edff-4d63-979d-c514d8ff7453",
   "metadata": {},
   "source": [
    "### 6. Multiple Linear Regression (MLR): mpg ~ wt + hp + disp"
   ]
  },
  {
   "cell_type": "code",
   "execution_count": 12,
   "id": "fbba4418-9add-4525-8bbf-683baf1b3fd0",
   "metadata": {},
   "outputs": [
    {
     "data": {
      "text/plain": [
       "\n",
       "Call:\n",
       "lm(formula = mpg ~ wt + hp + disp, data = mtcars)\n",
       "\n",
       "Coefficients:\n",
       "(Intercept)           wt           hp         disp  \n",
       "  37.105505    -3.800891    -0.031157    -0.000937  \n"
      ]
     },
     "metadata": {},
     "output_type": "display_data"
    }
   ],
   "source": [
    "# Fit multiple linear regression\n",
    "model_mlr <- lm(mpg ~ wt + hp + disp, data = mtcars)\n",
    "model_mlr"
   ]
  },
  {
   "cell_type": "code",
   "execution_count": 13,
   "id": "1c4b61ca-aef4-434f-9132-aa789cae8caf",
   "metadata": {},
   "outputs": [
    {
     "data": {
      "text/plain": [
       "\n",
       "Call:\n",
       "lm(formula = mpg ~ wt + hp + disp, data = mtcars)\n",
       "\n",
       "Residuals:\n",
       "   Min     1Q Median     3Q    Max \n",
       "-3.891 -1.640 -0.172  1.061  5.861 \n",
       "\n",
       "Coefficients:\n",
       "             Estimate Std. Error t value Pr(>|t|)    \n",
       "(Intercept) 37.105505   2.110815  17.579  < 2e-16 ***\n",
       "wt          -3.800891   1.066191  -3.565  0.00133 ** \n",
       "hp          -0.031157   0.011436  -2.724  0.01097 *  \n",
       "disp        -0.000937   0.010350  -0.091  0.92851    \n",
       "---\n",
       "Signif. codes:  0 '***' 0.001 '**' 0.01 '*' 0.05 '.' 0.1 ' ' 1\n",
       "\n",
       "Residual standard error: 2.639 on 28 degrees of freedom\n",
       "Multiple R-squared:  0.8268,\tAdjusted R-squared:  0.8083 \n",
       "F-statistic: 44.57 on 3 and 28 DF,  p-value: 8.65e-11\n"
      ]
     },
     "metadata": {},
     "output_type": "display_data"
    }
   ],
   "source": [
    "# Summary of model\n",
    "summary(model_mlr)"
   ]
  },
  {
   "cell_type": "markdown",
   "id": "898c3122-35ca-47a9-bafc-a594c2359cb1",
   "metadata": {},
   "source": [
    "Explanation:\n",
    "Estimated Equation:\n",
    "mpg=37.11−3.80×wt−0.031×hp+0.0009×disp\n",
    "R-squared ≈ 0.83 → Better than SLR\n",
    "Weight still has the strongest negative effect\n",
    "Horsepower has a small negative impact; displacement slightly positive"
   ]
  },
  {
   "cell_type": "markdown",
   "id": "59b701e6-93d6-4504-801d-b14add4615be",
   "metadata": {},
   "source": [
    "### 7. ANOVA: Compare Reduced vs Full MLR"
   ]
  },
  {
   "cell_type": "code",
   "execution_count": 16,
   "id": "e00b4717-fd77-400f-b02c-7f1fd9c9c7d0",
   "metadata": {},
   "outputs": [
    {
     "data": {
      "text/plain": [
       "\n",
       "Call:\n",
       "lm(formula = mpg ~ wt + disp, data = mtcars)\n",
       "\n",
       "Coefficients:\n",
       "(Intercept)           wt         disp  \n",
       "   34.96055     -3.35083     -0.01772  \n"
      ]
     },
     "metadata": {},
     "output_type": "display_data"
    }
   ],
   "source": [
    "# Reduced model (without hp)\n",
    "model_reduced <- lm(mpg ~ wt + disp, data = mtcars)\n",
    "model_reduced "
   ]
  },
  {
   "cell_type": "code",
   "execution_count": 17,
   "id": "f64a192a-5a28-4e28-800d-7c2c29cd2608",
   "metadata": {},
   "outputs": [
    {
     "data": {
      "text/html": [
       "<table>\n",
       "<thead><tr><th scope=col>Res.Df</th><th scope=col>RSS</th><th scope=col>Df</th><th scope=col>Sum of Sq</th><th scope=col>F</th><th scope=col>Pr(&gt;F)</th></tr></thead>\n",
       "<tbody>\n",
       "\t<tr><td>29        </td><td>246.6825  </td><td>NA        </td><td>      NA  </td><td>      NA  </td><td>        NA</td></tr>\n",
       "\t<tr><td>28        </td><td>194.9907  </td><td> 1        </td><td>51.69183  </td><td>7.422771  </td><td>0.01097103</td></tr>\n",
       "</tbody>\n",
       "</table>\n"
      ],
      "text/latex": [
       "\\begin{tabular}{r|llllll}\n",
       " Res.Df & RSS & Df & Sum of Sq & F & Pr(>F)\\\\\n",
       "\\hline\n",
       "\t 29         & 246.6825   & NA         &       NA   &       NA   &         NA\\\\\n",
       "\t 28         & 194.9907   &  1         & 51.69183   & 7.422771   & 0.01097103\\\\\n",
       "\\end{tabular}\n"
      ],
      "text/markdown": [
       "\n",
       "| Res.Df | RSS | Df | Sum of Sq | F | Pr(>F) |\n",
       "|---|---|---|---|---|---|\n",
       "| 29         | 246.6825   | NA         |       NA   |       NA   |         NA |\n",
       "| 28         | 194.9907   |  1         | 51.69183   | 7.422771   | 0.01097103 |\n",
       "\n"
      ],
      "text/plain": [
       "  Res.Df RSS      Df Sum of Sq F        Pr(>F)    \n",
       "1 29     246.6825 NA       NA        NA         NA\n",
       "2 28     194.9907  1 51.69183  7.422771 0.01097103"
      ]
     },
     "metadata": {},
     "output_type": "display_data"
    }
   ],
   "source": [
    "# Compare with full model\n",
    "anova(model_reduced, model_mlr)b"
   ]
  },
  {
   "cell_type": "markdown",
   "id": "2fb0acdb-b1a2-45ed-951b-b863013d0d19",
   "metadata": {},
   "source": [
    "Explanation:\n",
    "ow 1 = Reduced Model (mpg ~ wt + disp)\n",
    "Row 2 = Full Model (mpg ~ wt + hp + disp)\n",
    "\n",
    "The first model (Reduced Model) serves as the baseline. \n",
    "and \n",
    "The F-statistic is 7.42 and the p-value is 0.011.\n",
    "Since the p-value < 0.05, the improvement is statistically significant.\n",
    "This means: Adding hp significantly improves the model’s ability to predict mpg."
   ]
  },
  {
   "cell_type": "markdown",
   "id": "77833c7a-c867-437f-ad24-afa6da1f23e0",
   "metadata": {},
   "source": [
    "### 8. Multicollinearity Check Using VIF\n",
    "(high correlation between independent variables)"
   ]
  },
  {
   "cell_type": "code",
   "execution_count": 21,
   "id": "98cde244-f301-45c4-8717-83c7b53bedd3",
   "metadata": {},
   "outputs": [
    {
     "data": {
      "text/html": [
       "<dl class=dl-horizontal>\n",
       "\t<dt>wt</dt>\n",
       "\t\t<dd>4.84461752591879</dd>\n",
       "\t<dt>hp</dt>\n",
       "\t\t<dd>2.73663269169123</dd>\n",
       "\t<dt>disp</dt>\n",
       "\t\t<dd>7.3245171503634</dd>\n",
       "</dl>\n"
      ],
      "text/latex": [
       "\\begin{description*}\n",
       "\\item[wt] 4.84461752591879\n",
       "\\item[hp] 2.73663269169123\n",
       "\\item[disp] 7.3245171503634\n",
       "\\end{description*}\n"
      ],
      "text/markdown": [
       "wt\n",
       ":   4.84461752591879hp\n",
       ":   2.73663269169123disp\n",
       ":   7.3245171503634\n",
       "\n"
      ],
      "text/plain": [
       "      wt       hp     disp \n",
       "4.844618 2.736633 7.324517 "
      ]
     },
     "metadata": {},
     "output_type": "display_data"
    }
   ],
   "source": [
    "# Check multicollinearity\n",
    "vif(model_mlr)\n"
   ]
  },
  {
   "cell_type": "code",
   "execution_count": null,
   "id": "f46efa1d-942f-499a-8054-7dcc12ffa24d",
   "metadata": {},
   "outputs": [],
   "source": [
    "Rule of Thumb:\n",
    "VIF < 5 → Low to moderate correlation, generally acceptable.\n",
    "VIF > 5–10 → High multicollinearity, problematic.\n",
    "VIF > 10 → Serious multicollinearity.\n",
    "\n",
    "wt: 4.84 → Acceptable. Slight multicollinearity, but not severe.\n",
    "hp: 2.74 → Very safe. No concern.\n",
    "disp: 7.32 → Warning zone. Shows noticeable multicollinearity.\n",
    "\n",
    "\n"
   ]
  },
  {
   "cell_type": "markdown",
   "id": "12a2f5d2-f49a-49e5-a4f2-c427978452d9",
   "metadata": {},
   "source": [
    "###  9. Train-Test Split & Model Testing"
   ]
  },
  {
   "cell_type": "code",
   "execution_count": 32,
   "id": "90e15206-c534-4195-a0b5-0a1a59e43288",
   "metadata": {},
   "outputs": [
    {
     "name": "stdout",
     "output_type": "stream",
     "text": [
      "[1] \"Mean Squared Error (MSE): 9.81\"\n",
      "                          Car Actual_MPG Predicted_MPG Residual\n",
      "Mazda RX4 Wag   Mazda RX4 Wag       21.0         22.10    -1.10\n",
      "Valiant               Valiant       18.1         20.37    -2.27\n",
      "Merc 240D           Merc 240D       24.4         22.56     1.84\n",
      "Merc 450SL         Merc 450SL       17.3         17.21     0.09\n",
      "Honda Civic       Honda Civic       30.4         27.93     2.47\n",
      "Toyota Corolla Toyota Corolla       33.9         26.82     7.08\n",
      "AMC Javelin       AMC Javelin       15.2         19.07    -3.87\n",
      "Lotus Europa     Lotus Europa       30.4         26.39     4.01\n",
      "Ford Pantera L Ford Pantera L       15.8         16.43    -0.63\n",
      "Ferrari Dino     Ferrari Dino       19.7         20.45    -0.75\n"
     ]
    }
   ],
   "source": [
    "\n",
    "#  Final Model (Remove 'disp' due to multicollinearity)\n",
    "# Model: mpg ~ wt + hp\n",
    "\n",
    "#  Train-Test Split (70-30)\n",
    "set.seed(42)\n",
    "train_index <- sample(seq_len(nrow(mtcars)), size = 0.7 * nrow(mtcars))\n",
    "train_data <- mtcars[train_index, ]\n",
    "test_data <- mtcars[-train_index, ]\n",
    "\n",
    "#  Train Model on Training Set\n",
    "model_final <- lm(mpg ~ wt + hp, data = train_data)\n",
    "\n",
    "#  Predict on Test Set\n",
    "pred_test <- predict(model_final, newdata = test_data)\n",
    "\n",
    "#  Evaluate Model : MSE(MEAN SQUARE ERROR)\n",
    "mse <- mean((test_data$mpg - pred_test)^2)\n",
    "print(paste(\"Mean Squared Error (MSE):\", round(mse, 2)))\n",
    "\n",
    "#  Combine Predictions with Actual MPG\n",
    "results <- data.frame(\n",
    "  Car = rownames(test_data),\n",
    "  Actual_MPG = test_data$mpg,\n",
    "  Predicted_MPG = round(pred_test, 2),\n",
    "  Residual = round(test_data$mpg - pred_test, 2)\n",
    ")\n",
    "\n",
    "# View Results\n",
    "print(results)\n"
   ]
  },
  {
   "cell_type": "markdown",
   "id": "7a16cee2-c5d1-477d-9d90-69b10890bcf4",
   "metadata": {},
   "source": [
    "MSE ≈ 9.81 → Reasonable error for regression prediction.\n",
    "MSE gives an estimate of how well the model predicts new data.\n",
    "\n",
    "The Mean Squared Error represents the average of the squared prediction errors.\n",
    "Lower is better.\n",
    "An MSE of 9.81 implies our model is reasonably good but can be improved (perhaps with more features or regularization)."
   ]
  },
  {
   "cell_type": "markdown",
   "id": "5c5fceaf-f0cb-432d-bd6b-f9ec5b176125",
   "metadata": {},
   "source": [
    "### Bar Plot: Actual vs Predicted MPG"
   ]
  },
  {
   "cell_type": "code",
   "execution_count": 33,
   "id": "9e7c325e-d23d-4089-a6d2-70d648bff354",
   "metadata": {},
   "outputs": [
    {
     "data": {
      "image/png": "[encoded data removed]",
      "text/plain": [
       "plot without title"
      ]
     },
     "metadata": {},
     "output_type": "display_data"
    }
   ],
   "source": [
    "# Create dataframe with actual, predicted, and residuals\n",
    "results_df <- data.frame(\n",
    "  Car = rownames(test_data),\n",
    "  Actual_MPG = test_data$mpg,\n",
    "  Predicted_MPG = round(pred_test, 2),\n",
    "  Residual = round(test_data$mpg - pred_test, 2)\n",
    ")\n",
    "\n",
    "# Load required library\n",
    "library(ggplot2)\n",
    "library(reshape2)\n",
    "\n",
    "# Melt the data for plotting (bar plot)\n",
    "melted_df <- melt(results_df[, c(\"Car\", \"Actual_MPG\", \"Predicted_MPG\")], id.vars = \"Car\")\n",
    "\n",
    "# Plot\n",
    "ggplot(melted_df, aes(x = Car, y = value, fill = variable)) +\n",
    "  geom_bar(stat = \"identity\", position = \"dodge\") +\n",
    "  labs(title = \"Actual vs Predicted MPG (Test Set)\",\n",
    "       x = \"Car\",\n",
    "       y = \"Miles Per Gallon (MPG)\",\n",
    "       fill = \"\") +\n",
    "  theme_minimal() +\n",
    "  theme(axis.text.x = element_text(angle = 45, hjust = 1))\n"
   ]
  },
  {
   "cell_type": "markdown",
   "id": "c0ae813b-008f-4052-8333-a706039df68b",
   "metadata": {},
   "source": [
    "### 2. Residual Plot"
   ]
  },
  {
   "cell_type": "code",
   "execution_count": 34,
   "id": "4d95351f-7274-4b1d-9afd-48cce364b387",
   "metadata": {},
   "outputs": [
    {
     "data": {
      "image/png": "[encoded data removed]",
      "text/plain": [
       "plot without title"
      ]
     },
     "metadata": {},
     "output_type": "display_data"
    }
   ],
   "source": [
    "# Residual Plot\n",
    "ggplot(results_df, aes(x = Car, y = Residual, fill = Residual > 0)) +\n",
    "  geom_bar(stat = \"identity\") +\n",
    "  scale_fill_manual(values = c(\"firebrick\", \"forestgreen\"), guide = FALSE) +\n",
    "  labs(title = \"Residuals (Actual - Predicted MPG)\",\n",
    "       x = \"Car\",\n",
    "       y = \"Residual (MPG)\") +\n",
    "  theme_minimal() +\n",
    "  theme(axis.text.x = element_text(angle = 45, hjust = 1))\n"
   ]
  },
  {
   "cell_type": "markdown",
   "id": "1f0eae50-f49d-4efc-8748-b8f4966bf3d2",
   "metadata": {},
   "source": [
    "#  Project Conclusion: Predicting Car Fuel Efficiency Using Linear Regression (R)\n",
    "\n",
    "##  Objective\n",
    "The primary goal of this project was to **predict miles per gallon (mpg)** — a measure of car fuel efficiency — using linear regression models on the `mtcars` dataset, based on car features such as weight (`wt`), horsepower (`hp`), and displacement (`disp`).\n",
    "\n",
    "---\n",
    "\n",
    "##  Key Findings\n",
    "\n",
    "### 🔹 Simple Linear Regression (SLR)\n",
    "- **Model**: `mpg ~ wt`\n",
    "- **R² ≈ 0.75**\n",
    "- **Interpretation**: Heavier cars tend to have lower mpg. Weight alone explains ~75% of the variation in fuel efficiency.\n",
    "\n",
    "### 🔹 Multiple Linear Regression (MLR)\n",
    "- **Initial Model**: `mpg ~ wt + hp + disp`\n",
    "- **R² ≈ 0.83**\n",
    "- **Interpretation**:\n",
    "  - `wt`: Strong negative impact on mpg\n",
    "  - `hp`: Mild negative effect\n",
    "  - `disp`: Weak contribution, hard to interpret\n",
    "\n",
    "---\n",
    "\n",
    "##  Multicollinearity Check (VIF)\n",
    "- All predictors had **VIF < 5** → Acceptable multicollinearity.\n",
    "- But `disp` showed relatively high VIF with weak explanatory power.\n",
    "-  **Decision**: Dropped `disp` for a simpler and more stable model.\n",
    "\n",
    "---\n",
    "\n",
    "##  Final Model\n",
    "\n",
    "###  Model: `mpg ~ wt + hp`\n",
    "\n",
    "- **Train-Test Split**: 70% training, 30% testing\n",
    "- **Mean Squared Error (Test Set)**: `≈ 9.81`\n",
    "- **Interpretation**: The model performs well on unseen data, with reasonably accurate predictions.\n",
    "\n",
    "---\n",
    "\n",
    "## Model Performance Summary\n",
    "\n",
    "| Metric                     | Value              |\n",
    "|---------------------------|--------------------|\n",
    "| Final Model               | mpg ~ wt + hp      |\n",
    "| R-squared (Train Data)    | ~0.83              |\n",
    "| Mean Squared Error (Test) | ~9.81              |\n",
    "| Strongest Predictor       | Car Weight (wt)    |\n",
    "\n",
    "---\n",
    "\n",
    "\n"
   ]
  },
  {
   "cell_type": "code",
   "execution_count": null,
   "id": "66e7bfef-4318-4b33-b4be-662b654e3645",
   "metadata": {},
   "outputs": [],
   "source": []
  }
 ],
 "metadata": {
  "kernelspec": {
   "display_name": "R",
   "language": "R",
   "name": "ir"
  },
  "language_info": {
   "codemirror_mode": "r",
   "file_extension": ".r",
   "mimetype": "text/x-r-source",
   "name": "R",
   "pygments_lexer": "r",
   "version": "3.6.1"
  }
 },
 "nbformat": 4,
 "nbformat_minor": 5
}
